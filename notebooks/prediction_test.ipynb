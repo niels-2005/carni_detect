{
 "cells": [
  {
   "cell_type": "code",
   "execution_count": 2,
   "id": "75b27aaa",
   "metadata": {},
   "outputs": [
    {
     "name": "stderr",
     "output_type": "stream",
     "text": [
      "2025-08-24 21:37:23.227729: I tensorflow/core/util/port.cc:153] oneDNN custom operations are on. You may see slightly different numerical results due to floating-point round-off errors from different computation orders. To turn them off, set the environment variable `TF_ENABLE_ONEDNN_OPTS=0`.\n",
      "2025-08-24 21:37:23.266108: I tensorflow/core/platform/cpu_feature_guard.cc:210] This TensorFlow binary is optimized to use available CPU instructions in performance-critical operations.\n",
      "To enable the following instructions: AVX2 AVX512F AVX512_VNNI FMA, in other operations, rebuild TensorFlow with the appropriate compiler flags.\n",
      "2025-08-24 21:37:23.996810: I tensorflow/core/util/port.cc:153] oneDNN custom operations are on. You may see slightly different numerical results due to floating-point round-off errors from different computation orders. To turn them off, set the environment variable `TF_ENABLE_ONEDNN_OPTS=0`.\n"
     ]
    }
   ],
   "source": [
    "import tensorflow as tf\n",
    "\n",
    "# tf.keras.applications.resnet50.preprocess_input"
   ]
  },
  {
   "cell_type": "code",
   "execution_count": 1,
   "id": "5e178e4f",
   "metadata": {},
   "outputs": [
    {
     "name": "stdout",
     "output_type": "stream",
     "text": [
      "--2025-08-24 21:37:19--  https://www.mygoldenretrieverpuppies.com/wp-content/uploads/2022/06/Golden-Retriever-Puppies.jpeg\n",
      "Resolving www.mygoldenretrieverpuppies.com (www.mygoldenretrieverpuppies.com)... 141.193.213.10, 141.193.213.11\n",
      "Connecting to www.mygoldenretrieverpuppies.com (www.mygoldenretrieverpuppies.com)|141.193.213.10|:443... connected.\n",
      "HTTP request sent, awaiting response... 200 OK\n",
      "Length: 154638 (151K) [image/jpeg]\n",
      "Saving to: ‘Golden-Retriever-Puppies.jpeg’\n",
      "\n",
      "Golden-Retriever-Pu 100%[===================>] 151.01K  --.-KB/s    in 0.03s   \n",
      "\n",
      "2025-08-24 21:37:19 (4.44 MB/s) - ‘Golden-Retriever-Puppies.jpeg’ saved [154638/154638]\n",
      "\n"
     ]
    }
   ],
   "source": [
    "!wget https://www.mygoldenretrieverpuppies.com/wp-content/uploads/2022/06/Golden-Retriever-Puppies.jpeg"
   ]
  },
  {
   "cell_type": "code",
   "execution_count": 5,
   "id": "2c3b5d43",
   "metadata": {},
   "outputs": [
    {
     "name": "stdout",
     "output_type": "stream",
     "text": [
      "--2025-08-24 21:38:44--  https://image.jimcdn.com/app/cms/image/transf/none/path/scb57eb606df3e140/backgroundarea/ib321d747619369f9/version/1518116761/image.jpg\n",
      "Resolving image.jimcdn.com (image.jimcdn.com)... 2606:4700:4400::ac40:9a45, 2606:4700:4400::6812:21bb, 172.64.154.69, ...\n",
      "Connecting to image.jimcdn.com (image.jimcdn.com)|2606:4700:4400::ac40:9a45|:443... connected.\n",
      "HTTP request sent, awaiting response... 200 OK\n",
      "Length: 810378 (791K) [image/jpeg]\n",
      "Saving to: ‘image.jpg’\n",
      "\n",
      "image.jpg           100%[===================>] 791.38K  --.-KB/s    in 0.1s    \n",
      "\n",
      "2025-08-24 21:38:44 (6.28 MB/s) - ‘image.jpg’ saved [810378/810378]\n",
      "\n"
     ]
    }
   ],
   "source": [
    "!wget https://image.jimcdn.com/app/cms/image/transf/none/path/scb57eb606df3e140/backgroundarea/ib321d747619369f9/version/1518116761/image.jpg"
   ]
  },
  {
   "cell_type": "code",
   "execution_count": 7,
   "id": "6674e344",
   "metadata": {},
   "outputs": [
    {
     "name": "stdout",
     "output_type": "stream",
     "text": [
      "\u001b[1m1/1\u001b[0m \u001b[32m━━━━━━━━━━━━━━━━━━━━\u001b[0m\u001b[37m\u001b[0m \u001b[1m2s\u001b[0m 2s/step\n",
      "Predictions: [[0.    0.    0.    0.008 0.013 0.047 0.    0.002 0.    0.    0.153 0.005\n",
      "  0.755 0.015 0.001]]\n"
     ]
    }
   ],
   "source": [
    "# Load the model from the checkpoint\n",
    "model = tf.keras.models.load_model(\n",
    "    \"/home/ubuntu/dev/carni_detect/models/carnidetectv1.keras\"\n",
    ")\n",
    "\n",
    "image = tf.keras.preprocessing.image.load_img(\n",
    "    \"/home/ubuntu/dev/carni_detect/notebooks/image.jpg\",\n",
    "    target_size=(224, 224),\n",
    ")\n",
    "image = tf.keras.preprocessing.image.img_to_array(image)\n",
    "image = tf.expand_dims(image, axis=0)\n",
    "image = tf.keras.applications.resnet50.preprocess_input(image)\n",
    "\n",
    "# Make predictions\n",
    "predictions = model.predict(image)\n",
    "print(\"Predictions:\", predictions)"
   ]
  },
  {
   "cell_type": "code",
   "execution_count": 22,
   "id": "b484c547",
   "metadata": {},
   "outputs": [
    {
     "name": "stdout",
     "output_type": "stream",
     "text": [
      "Found 375 files belonging to 15 classes.\n"
     ]
    }
   ],
   "source": [
    "def preprocess_dataset(dataset: tf.data.Dataset):\n",
    "    dataset = dataset.map(\n",
    "        lambda image, label: (\n",
    "            tf.keras.applications.resnet50.preprocess_input(image),\n",
    "            label,\n",
    "        )\n",
    "    )\n",
    "    return dataset\n",
    "\n",
    "\n",
    "def get_image_dataset(\n",
    "    data_directory: str, batch_size: int, shuffle: bool\n",
    ") -> tf.data.Dataset:\n",
    "    \"\"\"Creates a TensorFlow dataset from the images in the specified directory.\n",
    "\n",
    "    Args:\n",
    "        data_directory (str): Path to the directory containing the image files.\n",
    "        batch_size (int): Number of images to include in each batch.\n",
    "\n",
    "    Returns:\n",
    "        tf.data.Dataset: A TensorFlow dataset object.\n",
    "    \"\"\"\n",
    "    dataset = tf.keras.preprocessing.image_dataset_from_directory(\n",
    "        data_directory,\n",
    "        label_mode=\"categorical\",\n",
    "        seed=42,\n",
    "        batch_size=batch_size,\n",
    "        image_size=(224, 224),  # Resize images to a consistent size\n",
    "        shuffle=shuffle,\n",
    "        color_mode=\"rgb\",\n",
    "    )\n",
    "    dataset = preprocess_dataset(dataset)\n",
    "    return dataset\n",
    "\n",
    "\n",
    "test_dataset = get_image_dataset(\n",
    "    data_directory=\"/home/ubuntu/dev/carni_detect/dataset/test\",\n",
    "    batch_size=32,\n",
    "    shuffle=False,\n",
    ")"
   ]
  },
  {
   "cell_type": "code",
   "execution_count": 23,
   "id": "ac531d96",
   "metadata": {},
   "outputs": [
    {
     "name": "stdout",
     "output_type": "stream",
     "text": [
      "\u001b[1m12/12\u001b[0m \u001b[32m━━━━━━━━━━━━━━━━━━━━\u001b[0m\u001b[37m\u001b[0m \u001b[1m7s\u001b[0m 278ms/step - categorical_accuracy: 0.9493 - loss: 0.1795\n",
      "[0.17947760224342346, 0.9493333101272583]\n"
     ]
    }
   ],
   "source": [
    "pred = model.evaluate(test_dataset)\n",
    "print(pred)"
   ]
  },
  {
   "cell_type": "code",
   "execution_count": 4,
   "id": "718bdf99",
   "metadata": {},
   "outputs": [
    {
     "name": "stdout",
     "output_type": "stream",
     "text": [
      "Predictions: [[0.    0.    0.    0.    0.    0.    0.    0.    0.999 0.    0.001 0.\n",
      "  0.    0.    0.   ]]\n"
     ]
    }
   ],
   "source": [
    "import numpy as np\n",
    "\n",
    "np.set_printoptions(precision=3, suppress=True)\n",
    "print(\"Predictions:\", predictions)"
   ]
  },
  {
   "cell_type": "code",
   "execution_count": 18,
   "id": "79d1ddbd",
   "metadata": {},
   "outputs": [
    {
     "name": "stdout",
     "output_type": "stream",
     "text": [
      "tf.Tensor([8], shape=(1,), dtype=int64)\n"
     ]
    }
   ],
   "source": [
    "final_pred = tf.argmax(predictions, axis=1)\n",
    "print(final_pred)"
   ]
  },
  {
   "cell_type": "code",
   "execution_count": null,
   "id": "33dd761e",
   "metadata": {},
   "outputs": [],
   "source": []
  }
 ],
 "metadata": {
  "kernelspec": {
   "display_name": "carni-detect",
   "language": "python",
   "name": "python3"
  },
  "language_info": {
   "codemirror_mode": {
    "name": "ipython",
    "version": 3
   },
   "file_extension": ".py",
   "mimetype": "text/x-python",
   "name": "python",
   "nbconvert_exporter": "python",
   "pygments_lexer": "ipython3",
   "version": "3.13.5"
  }
 },
 "nbformat": 4,
 "nbformat_minor": 5
}
